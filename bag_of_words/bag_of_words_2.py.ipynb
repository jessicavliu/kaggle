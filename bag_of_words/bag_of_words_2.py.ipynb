{
 "cells": [
  {
   "cell_type": "code",
   "execution_count": 1,
   "metadata": {},
   "outputs": [],
   "source": [
    "import pandas as pd\n",
    "from bs4 import BeautifulSoup\n",
    "import re\n",
    "import nltk\n",
    "from nltk.corpus import stopwords\n",
    "import logging\n",
    "from gensim.models import word2vec\n",
    "from gensim.models import Word2Vec\n",
    "import numpy as np"
   ]
  },
  {
   "cell_type": "code",
   "execution_count": 2,
   "metadata": {},
   "outputs": [
    {
     "name": "stdout",
     "output_type": "stream",
     "text": [
      "train: 25000, test: 25000, unlabeledtrain: 50000\n"
     ]
    }
   ],
   "source": [
    "# Read data from files \n",
    "train = pd.read_csv( \"labeledTrainData.tsv\", header=0, \n",
    " delimiter=\"\\t\", quoting=3 )\n",
    "test = pd.read_csv( \"testData.tsv\", header=0, delimiter=\"\\t\", quoting=3 )\n",
    "unlabeled_train = pd.read_csv( \"unlabeledTrainData.tsv\", header=0, \n",
    " delimiter=\"\\t\", quoting=3 )\n",
    "\n",
    "#verify sizes\n",
    "print(\"train: %d, test: %d, unlabeledtrain: %d\" % (train['review'].size, test['review'].size, unlabeled_train['review'].size))"
   ]
  },
  {
   "cell_type": "code",
   "execution_count": 3,
   "metadata": {},
   "outputs": [],
   "source": [
    "def review_to_wordlist(raw_review, remove_stopwords=False):\n",
    "    #remove html <- beautiful soup\n",
    "    review_text = BeautifulSoup(raw_review).get_text()\n",
    "    \n",
    "    #remove bad chars <- re\n",
    "    only_letters = re.sub(\"[^A-Za-z]\", \" \", review_text)\n",
    "    word_list = only_letters.lower().split()\n",
    "    \n",
    "    #optionally remove stopwords and return as list\n",
    "    if remove_stopwords:\n",
    "        stop_words = set(stopwords.words(\"english\"))\n",
    "        word_list = [w for w in word_list if not w in stop_words]\n",
    "        \n",
    "    return word_list   "
   ]
  },
  {
   "cell_type": "code",
   "execution_count": 4,
   "metadata": {},
   "outputs": [],
   "source": [
    "tokenizer = nltk.data.load('tokenizers/punkt/english.pickle')\n",
    "\n",
    "def review_to_sentences(review, tokenizer, remove_stopwords=False):\n",
    "    #tokenize into sentences based off of nltk punkt\n",
    "    raw_sentences = tokenizer.tokenize(review.strip())\n",
    "    \n",
    "    sentences = []\n",
    "    \n",
    "    #clean each sentence\n",
    "    for s in raw_sentences:\n",
    "        if len(s) > 0:\n",
    "            sentences.append(review_to_wordlist(s, remove_stopwords))\n",
    "    \n",
    "    return sentences #list of lists"
   ]
  },
  {
   "cell_type": "code",
   "execution_count": 5,
   "metadata": {},
   "outputs": [
    {
     "name": "stdout",
     "output_type": "stream",
     "text": [
      "Parsing labelled training set...\n"
     ]
    },
    {
     "name": "stderr",
     "output_type": "stream",
     "text": [
      "/Library/Frameworks/Python.framework/Versions/3.6/lib/python3.6/site-packages/bs4/__init__.py:273: UserWarning: \"b'.'\" looks like a filename, not markup. You should probably open this file and pass the filehandle into Beautiful Soup.\n",
      "  ' Beautiful Soup.' % markup)\n",
      "/Library/Frameworks/Python.framework/Versions/3.6/lib/python3.6/site-packages/bs4/__init__.py:336: UserWarning: \"http://www.happierabroad.com\"\" looks like a URL. Beautiful Soup is not an HTTP client. You should probably use an HTTP client like requests to get the document behind the URL, and feed that document to Beautiful Soup.\n",
      "  ' that document to Beautiful Soup.' % decoded_markup\n"
     ]
    },
    {
     "name": "stdout",
     "output_type": "stream",
     "text": [
      "['with', 'all', 'this', 'stuff', 'going', 'down', 'at', 'the', 'moment', 'with', 'mj', 'i', 've', 'started', 'listening', 'to', 'his', 'music', 'watching', 'the', 'odd', 'documentary', 'here', 'and', 'there', 'watched', 'the', 'wiz', 'and', 'watched', 'moonwalker', 'again']\n",
      "['maybe', 'i', 'just', 'want', 'to', 'get', 'a', 'certain', 'insight', 'into', 'this', 'guy', 'who', 'i', 'thought', 'was', 'really', 'cool', 'in', 'the', 'eighties', 'just', 'to', 'maybe', 'make', 'up', 'my', 'mind', 'whether', 'he', 'is', 'guilty', 'or', 'innocent']\n",
      "266551\n",
      "Parsing labelled training set...\n"
     ]
    },
    {
     "name": "stderr",
     "output_type": "stream",
     "text": [
      "/Library/Frameworks/Python.framework/Versions/3.6/lib/python3.6/site-packages/bs4/__init__.py:336: UserWarning: \"http://www.archive.org/details/LovefromaStranger\"\" looks like a URL. Beautiful Soup is not an HTTP client. You should probably use an HTTP client like requests to get the document behind the URL, and feed that document to Beautiful Soup.\n",
      "  ' that document to Beautiful Soup.' % decoded_markup\n",
      "/Library/Frameworks/Python.framework/Versions/3.6/lib/python3.6/site-packages/bs4/__init__.py:336: UserWarning: \"http://www.loosechangeguide.com/LooseChangeGuide.html\"\" looks like a URL. Beautiful Soup is not an HTTP client. You should probably use an HTTP client like requests to get the document behind the URL, and feed that document to Beautiful Soup.\n",
      "  ' that document to Beautiful Soup.' % decoded_markup\n",
      "/Library/Frameworks/Python.framework/Versions/3.6/lib/python3.6/site-packages/bs4/__init__.py:336: UserWarning: \"http://www.msnbc.msn.com/id/4972055/site/newsweek/\"\" looks like a URL. Beautiful Soup is not an HTTP client. You should probably use an HTTP client like requests to get the document behind the URL, and feed that document to Beautiful Soup.\n",
      "  ' that document to Beautiful Soup.' % decoded_markup\n",
      "/Library/Frameworks/Python.framework/Versions/3.6/lib/python3.6/site-packages/bs4/__init__.py:273: UserWarning: \"b'..'\" looks like a filename, not markup. You should probably open this file and pass the filehandle into Beautiful Soup.\n",
      "  ' Beautiful Soup.' % markup)\n",
      "/Library/Frameworks/Python.framework/Versions/3.6/lib/python3.6/site-packages/bs4/__init__.py:336: UserWarning: \"http://www.youtube.com/watch?v=a0KSqelmgN8\"\" looks like a URL. Beautiful Soup is not an HTTP client. You should probably use an HTTP client like requests to get the document behind the URL, and feed that document to Beautiful Soup.\n",
      "  ' that document to Beautiful Soup.' % decoded_markup\n",
      "/Library/Frameworks/Python.framework/Versions/3.6/lib/python3.6/site-packages/bs4/__init__.py:336: UserWarning: \"http://jake-weird.blogspot.com/2007/08/beneath.html\"\" looks like a URL. Beautiful Soup is not an HTTP client. You should probably use an HTTP client like requests to get the document behind the URL, and feed that document to Beautiful Soup.\n",
      "  ' that document to Beautiful Soup.' % decoded_markup\n"
     ]
    }
   ],
   "source": [
    "sentences = []\n",
    "\n",
    "print(\"Parsing labelled training set...\")\n",
    "for review in train[\"review\"]:\n",
    "    sentences += review_to_sentences(review, tokenizer)\n",
    "\n",
    "print(sentences[0])\n",
    "print(sentences[1])\n",
    "print(len(sentences))\n",
    "\n",
    "print(\"Parsing unlabelled training set...\")\n",
    "for review in unlabeled_train[\"review\"]:\n",
    "    sentences += review_to_sentences(review, tokenizer)"
   ]
  },
  {
   "cell_type": "code",
   "execution_count": 6,
   "metadata": {},
   "outputs": [
    {
     "name": "stdout",
     "output_type": "stream",
     "text": [
      "795538\n"
     ]
    }
   ],
   "source": [
    "print(len(sentences))"
   ]
  },
  {
   "cell_type": "code",
   "execution_count": 7,
   "metadata": {},
   "outputs": [],
   "source": [
    "logging.basicConfig(format='%(asctime)s : %(levelname)s : %(message)s',\\\n",
    "    level=logging.INFO)"
   ]
  },
  {
   "cell_type": "code",
   "execution_count": 8,
   "metadata": {},
   "outputs": [
    {
     "name": "stderr",
     "output_type": "stream",
     "text": [
      "2018-09-03 12:28:22,792 : INFO : collecting all words and their counts\n",
      "2018-09-03 12:28:22,793 : INFO : PROGRESS: at sentence #0, processed 0 words, keeping 0 word types\n",
      "2018-09-03 12:28:22,835 : INFO : PROGRESS: at sentence #10000, processed 225803 words, keeping 17776 word types\n",
      "2018-09-03 12:28:22,877 : INFO : PROGRESS: at sentence #20000, processed 451892 words, keeping 24948 word types\n",
      "2018-09-03 12:28:22,916 : INFO : PROGRESS: at sentence #30000, processed 671315 words, keeping 30034 word types\n",
      "2018-09-03 12:28:22,963 : INFO : PROGRESS: at sentence #40000, processed 897815 words, keeping 34348 word types\n"
     ]
    },
    {
     "name": "stdout",
     "output_type": "stream",
     "text": [
      "Training model...\n"
     ]
    },
    {
     "name": "stderr",
     "output_type": "stream",
     "text": [
      "2018-09-03 12:28:23,012 : INFO : PROGRESS: at sentence #50000, processed 1116963 words, keeping 37761 word types\n",
      "2018-09-03 12:28:23,057 : INFO : PROGRESS: at sentence #60000, processed 1338404 words, keeping 40723 word types\n",
      "2018-09-03 12:28:23,104 : INFO : PROGRESS: at sentence #70000, processed 1561580 words, keeping 43333 word types\n",
      "2018-09-03 12:28:23,151 : INFO : PROGRESS: at sentence #80000, processed 1780887 words, keeping 45714 word types\n",
      "2018-09-03 12:28:23,196 : INFO : PROGRESS: at sentence #90000, processed 2004996 words, keeping 48135 word types\n",
      "2018-09-03 12:28:23,243 : INFO : PROGRESS: at sentence #100000, processed 2226966 words, keeping 50207 word types\n",
      "2018-09-03 12:28:23,290 : INFO : PROGRESS: at sentence #110000, processed 2446580 words, keeping 52081 word types\n",
      "2018-09-03 12:28:23,333 : INFO : PROGRESS: at sentence #120000, processed 2668775 words, keeping 54119 word types\n",
      "2018-09-03 12:28:23,376 : INFO : PROGRESS: at sentence #130000, processed 2894303 words, keeping 55847 word types\n",
      "2018-09-03 12:28:23,416 : INFO : PROGRESS: at sentence #140000, processed 3107005 words, keeping 57346 word types\n",
      "2018-09-03 12:28:23,461 : INFO : PROGRESS: at sentence #150000, processed 3332627 words, keeping 59055 word types\n",
      "2018-09-03 12:28:23,506 : INFO : PROGRESS: at sentence #160000, processed 3555315 words, keeping 60617 word types\n",
      "2018-09-03 12:28:23,555 : INFO : PROGRESS: at sentence #170000, processed 3778655 words, keeping 62077 word types\n",
      "2018-09-03 12:28:23,600 : INFO : PROGRESS: at sentence #180000, processed 3999236 words, keeping 63496 word types\n",
      "2018-09-03 12:28:23,648 : INFO : PROGRESS: at sentence #190000, processed 4224449 words, keeping 64794 word types\n",
      "2018-09-03 12:28:23,697 : INFO : PROGRESS: at sentence #200000, processed 4448603 words, keeping 66087 word types\n",
      "2018-09-03 12:28:23,740 : INFO : PROGRESS: at sentence #210000, processed 4669967 words, keeping 67390 word types\n",
      "2018-09-03 12:28:23,782 : INFO : PROGRESS: at sentence #220000, processed 4894968 words, keeping 68697 word types\n",
      "2018-09-03 12:28:23,826 : INFO : PROGRESS: at sentence #230000, processed 5117545 words, keeping 69958 word types\n",
      "2018-09-03 12:28:23,875 : INFO : PROGRESS: at sentence #240000, processed 5345050 words, keeping 71167 word types\n",
      "2018-09-03 12:28:23,924 : INFO : PROGRESS: at sentence #250000, processed 5559165 words, keeping 72351 word types\n",
      "2018-09-03 12:28:23,973 : INFO : PROGRESS: at sentence #260000, processed 5779146 words, keeping 73478 word types\n",
      "2018-09-03 12:28:24,028 : INFO : PROGRESS: at sentence #270000, processed 6000435 words, keeping 74767 word types\n",
      "2018-09-03 12:28:24,073 : INFO : PROGRESS: at sentence #280000, processed 6226314 words, keeping 76369 word types\n",
      "2018-09-03 12:28:24,120 : INFO : PROGRESS: at sentence #290000, processed 6449474 words, keeping 77839 word types\n",
      "2018-09-03 12:28:24,162 : INFO : PROGRESS: at sentence #300000, processed 6674077 words, keeping 79171 word types\n",
      "2018-09-03 12:28:24,209 : INFO : PROGRESS: at sentence #310000, processed 6899391 words, keeping 80480 word types\n",
      "2018-09-03 12:28:24,259 : INFO : PROGRESS: at sentence #320000, processed 7124278 words, keeping 81808 word types\n",
      "2018-09-03 12:28:24,305 : INFO : PROGRESS: at sentence #330000, processed 7346021 words, keeping 83030 word types\n",
      "2018-09-03 12:28:24,353 : INFO : PROGRESS: at sentence #340000, processed 7575533 words, keeping 84280 word types\n",
      "2018-09-03 12:28:24,405 : INFO : PROGRESS: at sentence #350000, processed 7798803 words, keeping 85425 word types\n",
      "2018-09-03 12:28:24,448 : INFO : PROGRESS: at sentence #360000, processed 8019427 words, keeping 86596 word types\n",
      "2018-09-03 12:28:24,495 : INFO : PROGRESS: at sentence #370000, processed 8246619 words, keeping 87708 word types\n",
      "2018-09-03 12:28:24,544 : INFO : PROGRESS: at sentence #380000, processed 8471766 words, keeping 88878 word types\n",
      "2018-09-03 12:28:24,593 : INFO : PROGRESS: at sentence #390000, processed 8701497 words, keeping 89907 word types\n",
      "2018-09-03 12:28:24,642 : INFO : PROGRESS: at sentence #400000, processed 8924446 words, keeping 90916 word types\n",
      "2018-09-03 12:28:24,689 : INFO : PROGRESS: at sentence #410000, processed 9145796 words, keeping 91880 word types\n",
      "2018-09-03 12:28:24,733 : INFO : PROGRESS: at sentence #420000, processed 9366876 words, keeping 92912 word types\n",
      "2018-09-03 12:28:24,780 : INFO : PROGRESS: at sentence #430000, processed 9594413 words, keeping 93932 word types\n",
      "2018-09-03 12:28:24,824 : INFO : PROGRESS: at sentence #440000, processed 9821166 words, keeping 94906 word types\n",
      "2018-09-03 12:28:24,867 : INFO : PROGRESS: at sentence #450000, processed 10044928 words, keeping 96036 word types\n",
      "2018-09-03 12:28:24,916 : INFO : PROGRESS: at sentence #460000, processed 10277688 words, keeping 97088 word types\n",
      "2018-09-03 12:28:24,965 : INFO : PROGRESS: at sentence #470000, processed 10505613 words, keeping 97933 word types\n",
      "2018-09-03 12:28:25,020 : INFO : PROGRESS: at sentence #480000, processed 10725997 words, keeping 98862 word types\n",
      "2018-09-03 12:28:25,075 : INFO : PROGRESS: at sentence #490000, processed 10952741 words, keeping 99871 word types\n",
      "2018-09-03 12:28:25,119 : INFO : PROGRESS: at sentence #500000, processed 11174397 words, keeping 100765 word types\n",
      "2018-09-03 12:28:25,171 : INFO : PROGRESS: at sentence #510000, processed 11399672 words, keeping 101699 word types\n",
      "2018-09-03 12:28:25,214 : INFO : PROGRESS: at sentence #520000, processed 11623020 words, keeping 102598 word types\n",
      "2018-09-03 12:28:25,263 : INFO : PROGRESS: at sentence #530000, processed 11847418 words, keeping 103400 word types\n",
      "2018-09-03 12:28:25,313 : INFO : PROGRESS: at sentence #540000, processed 12072033 words, keeping 104265 word types\n",
      "2018-09-03 12:28:25,360 : INFO : PROGRESS: at sentence #550000, processed 12297571 words, keeping 105133 word types\n",
      "2018-09-03 12:28:25,406 : INFO : PROGRESS: at sentence #560000, processed 12518861 words, keeping 105997 word types\n",
      "2018-09-03 12:28:25,451 : INFO : PROGRESS: at sentence #570000, processed 12747916 words, keeping 106787 word types\n",
      "2018-09-03 12:28:25,495 : INFO : PROGRESS: at sentence #580000, processed 12969412 words, keeping 107665 word types\n",
      "2018-09-03 12:28:25,541 : INFO : PROGRESS: at sentence #590000, processed 13194937 words, keeping 108501 word types\n",
      "2018-09-03 12:28:25,589 : INFO : PROGRESS: at sentence #600000, processed 13417135 words, keeping 109218 word types\n",
      "2018-09-03 12:28:25,638 : INFO : PROGRESS: at sentence #610000, processed 13638158 words, keeping 110092 word types\n",
      "2018-09-03 12:28:25,684 : INFO : PROGRESS: at sentence #620000, processed 13864483 words, keeping 110837 word types\n",
      "2018-09-03 12:28:25,731 : INFO : PROGRESS: at sentence #630000, processed 14088769 words, keeping 111610 word types\n",
      "2018-09-03 12:28:25,779 : INFO : PROGRESS: at sentence #640000, processed 14309552 words, keeping 112416 word types\n",
      "2018-09-03 12:28:25,826 : INFO : PROGRESS: at sentence #650000, processed 14535308 words, keeping 113196 word types\n",
      "2018-09-03 12:28:25,869 : INFO : PROGRESS: at sentence #660000, processed 14758098 words, keeping 113945 word types\n",
      "2018-09-03 12:28:25,918 : INFO : PROGRESS: at sentence #670000, processed 14981482 words, keeping 114643 word types\n",
      "2018-09-03 12:28:25,961 : INFO : PROGRESS: at sentence #680000, processed 15206314 words, keeping 115354 word types\n",
      "2018-09-03 12:28:26,006 : INFO : PROGRESS: at sentence #690000, processed 15428507 words, keeping 116131 word types\n",
      "2018-09-03 12:28:26,058 : INFO : PROGRESS: at sentence #700000, processed 15657213 words, keeping 116943 word types\n",
      "2018-09-03 12:28:26,105 : INFO : PROGRESS: at sentence #710000, processed 15880202 words, keeping 117596 word types\n",
      "2018-09-03 12:28:26,155 : INFO : PROGRESS: at sentence #720000, processed 16105489 words, keeping 118221 word types\n",
      "2018-09-03 12:28:26,202 : INFO : PROGRESS: at sentence #730000, processed 16331870 words, keeping 118954 word types\n",
      "2018-09-03 12:28:26,250 : INFO : PROGRESS: at sentence #740000, processed 16552903 words, keeping 119668 word types\n",
      "2018-09-03 12:28:26,294 : INFO : PROGRESS: at sentence #750000, processed 16771230 words, keeping 120295 word types\n",
      "2018-09-03 12:28:26,342 : INFO : PROGRESS: at sentence #760000, processed 16990622 words, keeping 120930 word types\n"
     ]
    },
    {
     "name": "stderr",
     "output_type": "stream",
     "text": [
      "2018-09-03 12:28:26,387 : INFO : PROGRESS: at sentence #770000, processed 17217759 words, keeping 121703 word types\n",
      "2018-09-03 12:28:26,438 : INFO : PROGRESS: at sentence #780000, processed 17447905 words, keeping 122402 word types\n",
      "2018-09-03 12:28:26,483 : INFO : PROGRESS: at sentence #790000, processed 17674981 words, keeping 123066 word types\n",
      "2018-09-03 12:28:26,515 : INFO : collected 123504 word types from a corpus of 17798082 raw words and 795538 sentences\n",
      "2018-09-03 12:28:26,516 : INFO : Loading a fresh vocabulary\n",
      "2018-09-03 12:28:26,601 : INFO : effective_min_count=40 retains 16490 unique words (13% of original 123504, drops 107014)\n",
      "2018-09-03 12:28:26,601 : INFO : effective_min_count=40 leaves 17238940 word corpus (96% of original 17798082, drops 559142)\n",
      "2018-09-03 12:28:26,642 : INFO : deleting the raw counts dictionary of 123504 items\n",
      "2018-09-03 12:28:26,646 : INFO : sample=0.001 downsamples 48 most-common words\n",
      "2018-09-03 12:28:26,647 : INFO : downsampling leaves estimated 12749658 word corpus (74.0% of prior 17238940)\n",
      "2018-09-03 12:28:26,695 : INFO : estimated required memory for 16490 words and 300 dimensions: 47821000 bytes\n",
      "2018-09-03 12:28:26,696 : INFO : resetting layer weights\n",
      "2018-09-03 12:28:26,925 : INFO : training model with 4 workers on 16490 vocabulary and 300 features, using sg=0 hs=0 sample=0.001 negative=5 window=10\n",
      "2018-09-03 12:28:27,932 : INFO : EPOCH 1 - PROGRESS: at 7.66% examples, 971009 words/s, in_qsize 7, out_qsize 0\n",
      "2018-09-03 12:28:28,938 : INFO : EPOCH 1 - PROGRESS: at 15.62% examples, 987239 words/s, in_qsize 7, out_qsize 0\n",
      "2018-09-03 12:28:29,942 : INFO : EPOCH 1 - PROGRESS: at 23.32% examples, 980799 words/s, in_qsize 7, out_qsize 0\n",
      "2018-09-03 12:28:30,948 : INFO : EPOCH 1 - PROGRESS: at 31.32% examples, 987753 words/s, in_qsize 7, out_qsize 0\n",
      "2018-09-03 12:28:31,951 : INFO : EPOCH 1 - PROGRESS: at 39.13% examples, 988432 words/s, in_qsize 7, out_qsize 0\n",
      "2018-09-03 12:28:32,956 : INFO : EPOCH 1 - PROGRESS: at 46.67% examples, 983862 words/s, in_qsize 7, out_qsize 0\n",
      "2018-09-03 12:28:33,968 : INFO : EPOCH 1 - PROGRESS: at 54.32% examples, 981526 words/s, in_qsize 7, out_qsize 0\n",
      "2018-09-03 12:28:34,974 : INFO : EPOCH 1 - PROGRESS: at 61.81% examples, 978687 words/s, in_qsize 7, out_qsize 0\n",
      "2018-09-03 12:28:35,980 : INFO : EPOCH 1 - PROGRESS: at 69.54% examples, 979094 words/s, in_qsize 7, out_qsize 0\n",
      "2018-09-03 12:28:36,986 : INFO : EPOCH 1 - PROGRESS: at 76.98% examples, 975737 words/s, in_qsize 7, out_qsize 0\n",
      "2018-09-03 12:28:37,992 : INFO : EPOCH 1 - PROGRESS: at 84.40% examples, 972435 words/s, in_qsize 7, out_qsize 0\n",
      "2018-09-03 12:28:38,994 : INFO : EPOCH 1 - PROGRESS: at 91.60% examples, 968133 words/s, in_qsize 7, out_qsize 0\n",
      "2018-09-03 12:28:40,003 : INFO : EPOCH 1 - PROGRESS: at 99.05% examples, 966248 words/s, in_qsize 7, out_qsize 0\n",
      "2018-09-03 12:28:40,101 : INFO : worker thread finished; awaiting finish of 3 more threads\n",
      "2018-09-03 12:28:40,110 : INFO : worker thread finished; awaiting finish of 2 more threads\n",
      "2018-09-03 12:28:40,115 : INFO : worker thread finished; awaiting finish of 1 more threads\n",
      "2018-09-03 12:28:40,119 : INFO : worker thread finished; awaiting finish of 0 more threads\n",
      "2018-09-03 12:28:40,120 : INFO : EPOCH - 1 : training on 17798082 raw words (12751260 effective words) took 13.2s, 966818 effective words/s\n",
      "2018-09-03 12:28:41,134 : INFO : EPOCH 2 - PROGRESS: at 7.36% examples, 931366 words/s, in_qsize 7, out_qsize 0\n",
      "2018-09-03 12:28:42,137 : INFO : EPOCH 2 - PROGRESS: at 15.07% examples, 950527 words/s, in_qsize 7, out_qsize 0\n",
      "2018-09-03 12:28:43,142 : INFO : EPOCH 2 - PROGRESS: at 22.42% examples, 942304 words/s, in_qsize 7, out_qsize 0\n",
      "2018-09-03 12:28:44,146 : INFO : EPOCH 2 - PROGRESS: at 29.88% examples, 943285 words/s, in_qsize 7, out_qsize 0\n",
      "2018-09-03 12:28:45,154 : INFO : EPOCH 2 - PROGRESS: at 37.28% examples, 940328 words/s, in_qsize 7, out_qsize 0\n",
      "2018-09-03 12:28:46,168 : INFO : EPOCH 2 - PROGRESS: at 44.50% examples, 935351 words/s, in_qsize 7, out_qsize 0\n",
      "2018-09-03 12:28:47,174 : INFO : EPOCH 2 - PROGRESS: at 51.81% examples, 934711 words/s, in_qsize 7, out_qsize 0\n",
      "2018-09-03 12:28:48,179 : INFO : EPOCH 2 - PROGRESS: at 59.17% examples, 936231 words/s, in_qsize 7, out_qsize 0\n",
      "2018-09-03 12:28:49,180 : INFO : EPOCH 2 - PROGRESS: at 66.57% examples, 937011 words/s, in_qsize 7, out_qsize 0\n",
      "2018-09-03 12:28:50,182 : INFO : EPOCH 2 - PROGRESS: at 73.85% examples, 936228 words/s, in_qsize 7, out_qsize 0\n",
      "2018-09-03 12:28:51,183 : INFO : EPOCH 2 - PROGRESS: at 81.37% examples, 938055 words/s, in_qsize 7, out_qsize 0\n",
      "2018-09-03 12:28:52,185 : INFO : EPOCH 2 - PROGRESS: at 88.81% examples, 939049 words/s, in_qsize 7, out_qsize 0\n",
      "2018-09-03 12:28:53,195 : INFO : EPOCH 2 - PROGRESS: at 96.30% examples, 939212 words/s, in_qsize 7, out_qsize 0\n",
      "2018-09-03 12:28:53,682 : INFO : worker thread finished; awaiting finish of 3 more threads\n",
      "2018-09-03 12:28:53,687 : INFO : worker thread finished; awaiting finish of 2 more threads\n",
      "2018-09-03 12:28:53,696 : INFO : worker thread finished; awaiting finish of 1 more threads\n",
      "2018-09-03 12:28:53,701 : INFO : worker thread finished; awaiting finish of 0 more threads\n",
      "2018-09-03 12:28:53,702 : INFO : EPOCH - 2 : training on 17798082 raw words (12751357 effective words) took 13.6s, 939441 effective words/s\n",
      "2018-09-03 12:28:54,710 : INFO : EPOCH 3 - PROGRESS: at 7.36% examples, 936097 words/s, in_qsize 7, out_qsize 0\n",
      "2018-09-03 12:28:55,716 : INFO : EPOCH 3 - PROGRESS: at 14.78% examples, 934171 words/s, in_qsize 7, out_qsize 0\n",
      "2018-09-03 12:28:56,720 : INFO : EPOCH 3 - PROGRESS: at 22.26% examples, 936022 words/s, in_qsize 7, out_qsize 0\n",
      "2018-09-03 12:28:57,722 : INFO : EPOCH 3 - PROGRESS: at 29.53% examples, 933901 words/s, in_qsize 7, out_qsize 0\n",
      "2018-09-03 12:28:58,729 : INFO : EPOCH 3 - PROGRESS: at 37.22% examples, 940085 words/s, in_qsize 7, out_qsize 0\n",
      "2018-09-03 12:28:59,730 : INFO : EPOCH 3 - PROGRESS: at 44.74% examples, 943132 words/s, in_qsize 7, out_qsize 0\n",
      "2018-09-03 12:29:00,738 : INFO : EPOCH 3 - PROGRESS: at 52.04% examples, 941109 words/s, in_qsize 7, out_qsize 0\n",
      "2018-09-03 12:29:01,769 : INFO : EPOCH 3 - PROGRESS: at 59.11% examples, 934194 words/s, in_qsize 7, out_qsize 0\n",
      "2018-09-03 12:29:02,771 : INFO : EPOCH 3 - PROGRESS: at 65.90% examples, 926382 words/s, in_qsize 7, out_qsize 0\n",
      "2018-09-03 12:29:03,777 : INFO : EPOCH 3 - PROGRESS: at 72.78% examples, 921291 words/s, in_qsize 7, out_qsize 0\n",
      "2018-09-03 12:29:04,780 : INFO : EPOCH 3 - PROGRESS: at 79.92% examples, 919783 words/s, in_qsize 7, out_qsize 0\n",
      "2018-09-03 12:29:05,786 : INFO : EPOCH 3 - PROGRESS: at 86.70% examples, 914905 words/s, in_qsize 7, out_qsize 0\n",
      "2018-09-03 12:29:06,793 : INFO : EPOCH 3 - PROGRESS: at 93.86% examples, 914397 words/s, in_qsize 7, out_qsize 0\n",
      "2018-09-03 12:29:07,610 : INFO : worker thread finished; awaiting finish of 3 more threads\n",
      "2018-09-03 12:29:07,617 : INFO : worker thread finished; awaiting finish of 2 more threads\n",
      "2018-09-03 12:29:07,623 : INFO : worker thread finished; awaiting finish of 1 more threads\n",
      "2018-09-03 12:29:07,626 : INFO : worker thread finished; awaiting finish of 0 more threads\n",
      "2018-09-03 12:29:07,626 : INFO : EPOCH - 3 : training on 17798082 raw words (12749668 effective words) took 13.9s, 916184 effective words/s\n",
      "2018-09-03 12:29:08,636 : INFO : EPOCH 4 - PROGRESS: at 7.36% examples, 935234 words/s, in_qsize 7, out_qsize 0\n",
      "2018-09-03 12:29:09,636 : INFO : EPOCH 4 - PROGRESS: at 14.56% examples, 922048 words/s, in_qsize 7, out_qsize 0\n",
      "2018-09-03 12:29:10,643 : INFO : EPOCH 4 - PROGRESS: at 21.80% examples, 917838 words/s, in_qsize 7, out_qsize 0\n",
      "2018-09-03 12:29:11,645 : INFO : EPOCH 4 - PROGRESS: at 29.26% examples, 925689 words/s, in_qsize 7, out_qsize 0\n",
      "2018-09-03 12:29:12,647 : INFO : EPOCH 4 - PROGRESS: at 36.56% examples, 924522 words/s, in_qsize 7, out_qsize 0\n",
      "2018-09-03 12:29:13,653 : INFO : EPOCH 4 - PROGRESS: at 43.58% examples, 919822 words/s, in_qsize 7, out_qsize 0\n",
      "2018-09-03 12:29:14,661 : INFO : EPOCH 4 - PROGRESS: at 50.95% examples, 922122 words/s, in_qsize 7, out_qsize 0\n",
      "2018-09-03 12:29:15,663 : INFO : EPOCH 4 - PROGRESS: at 58.24% examples, 923592 words/s, in_qsize 7, out_qsize 0\n",
      "2018-09-03 12:29:16,663 : INFO : EPOCH 4 - PROGRESS: at 65.57% examples, 924979 words/s, in_qsize 7, out_qsize 0\n"
     ]
    },
    {
     "name": "stderr",
     "output_type": "stream",
     "text": [
      "2018-09-03 12:29:17,678 : INFO : EPOCH 4 - PROGRESS: at 73.17% examples, 928379 words/s, in_qsize 7, out_qsize 0\n",
      "2018-09-03 12:29:18,681 : INFO : EPOCH 4 - PROGRESS: at 80.53% examples, 928895 words/s, in_qsize 7, out_qsize 0\n",
      "2018-09-03 12:29:19,691 : INFO : EPOCH 4 - PROGRESS: at 87.59% examples, 925874 words/s, in_qsize 7, out_qsize 0\n",
      "2018-09-03 12:29:20,701 : INFO : EPOCH 4 - PROGRESS: at 95.00% examples, 926628 words/s, in_qsize 7, out_qsize 0\n",
      "2018-09-03 12:29:21,355 : INFO : worker thread finished; awaiting finish of 3 more threads\n",
      "2018-09-03 12:29:21,365 : INFO : worker thread finished; awaiting finish of 2 more threads\n",
      "2018-09-03 12:29:21,370 : INFO : worker thread finished; awaiting finish of 1 more threads\n",
      "2018-09-03 12:29:21,374 : INFO : worker thread finished; awaiting finish of 0 more threads\n",
      "2018-09-03 12:29:21,375 : INFO : EPOCH - 4 : training on 17798082 raw words (12750232 effective words) took 13.7s, 927966 effective words/s\n",
      "2018-09-03 12:29:22,393 : INFO : EPOCH 5 - PROGRESS: at 7.42% examples, 933671 words/s, in_qsize 7, out_qsize 0\n",
      "2018-09-03 12:29:23,400 : INFO : EPOCH 5 - PROGRESS: at 14.95% examples, 939271 words/s, in_qsize 7, out_qsize 0\n",
      "2018-09-03 12:29:24,402 : INFO : EPOCH 5 - PROGRESS: at 22.48% examples, 942577 words/s, in_qsize 7, out_qsize 0\n",
      "2018-09-03 12:29:25,409 : INFO : EPOCH 5 - PROGRESS: at 29.53% examples, 930467 words/s, in_qsize 7, out_qsize 0\n",
      "2018-09-03 12:29:26,420 : INFO : EPOCH 5 - PROGRESS: at 36.06% examples, 906575 words/s, in_qsize 7, out_qsize 0\n",
      "2018-09-03 12:29:27,446 : INFO : EPOCH 5 - PROGRESS: at 42.19% examples, 883092 words/s, in_qsize 3, out_qsize 4\n",
      "2018-09-03 12:29:28,449 : INFO : EPOCH 5 - PROGRESS: at 48.11% examples, 864946 words/s, in_qsize 8, out_qsize 0\n",
      "2018-09-03 12:29:29,467 : INFO : EPOCH 5 - PROGRESS: at 53.27% examples, 837515 words/s, in_qsize 7, out_qsize 0\n",
      "2018-09-03 12:29:30,482 : INFO : EPOCH 5 - PROGRESS: at 59.06% examples, 826556 words/s, in_qsize 7, out_qsize 0\n",
      "2018-09-03 12:29:31,482 : INFO : EPOCH 5 - PROGRESS: at 64.79% examples, 816898 words/s, in_qsize 7, out_qsize 0\n",
      "2018-09-03 12:29:32,488 : INFO : EPOCH 5 - PROGRESS: at 70.43% examples, 808011 words/s, in_qsize 7, out_qsize 0\n",
      "2018-09-03 12:29:33,491 : INFO : EPOCH 5 - PROGRESS: at 75.94% examples, 798942 words/s, in_qsize 7, out_qsize 0\n",
      "2018-09-03 12:29:34,494 : INFO : EPOCH 5 - PROGRESS: at 81.75% examples, 794528 words/s, in_qsize 7, out_qsize 0\n",
      "2018-09-03 12:29:35,505 : INFO : EPOCH 5 - PROGRESS: at 87.37% examples, 788332 words/s, in_qsize 7, out_qsize 0\n",
      "2018-09-03 12:29:36,516 : INFO : EPOCH 5 - PROGRESS: at 92.95% examples, 782958 words/s, in_qsize 7, out_qsize 0\n",
      "2018-09-03 12:29:37,519 : INFO : EPOCH 5 - PROGRESS: at 99.16% examples, 783529 words/s, in_qsize 7, out_qsize 0\n",
      "2018-09-03 12:29:37,634 : INFO : worker thread finished; awaiting finish of 3 more threads\n",
      "2018-09-03 12:29:37,639 : INFO : worker thread finished; awaiting finish of 2 more threads\n",
      "2018-09-03 12:29:37,640 : INFO : worker thread finished; awaiting finish of 1 more threads\n",
      "2018-09-03 12:29:37,646 : INFO : worker thread finished; awaiting finish of 0 more threads\n",
      "2018-09-03 12:29:37,646 : INFO : EPOCH - 5 : training on 17798082 raw words (12749709 effective words) took 16.3s, 783974 effective words/s\n",
      "2018-09-03 12:29:37,647 : INFO : training on a 88990410 raw words (63752226 effective words) took 70.7s, 901486 effective words/s\n",
      "2018-09-03 12:29:37,647 : INFO : precomputing L2-norms of word weight vectors\n",
      "2018-09-03 12:29:37,817 : INFO : saving Word2Vec object under 300features_40minwords_10context, separately None\n",
      "2018-09-03 12:29:37,818 : INFO : not storing attribute vectors_norm\n",
      "2018-09-03 12:29:37,819 : INFO : not storing attribute cum_table\n",
      "2018-09-03 12:29:38,612 : INFO : saved 300features_40minwords_10context\n"
     ]
    }
   ],
   "source": [
    "# Set values for word2vec parameters\n",
    "num_features = 300    # Word vector dimensionality                      \n",
    "min_word_count = 40   # Minimum word count                        \n",
    "num_workers = 4       # Number of threads to run in parallel\n",
    "context = 10          # Context window size                                                                                    \n",
    "downsampling = 1e-3   # Downsample setting for frequent words\n",
    "\n",
    "# Initialize and train the word2vec model (takes time)\n",
    "print(\"Training model...\")\n",
    "model = word2vec.Word2Vec(sentences, workers=num_workers, \\\n",
    "            size=num_features, min_count = min_word_count, \\\n",
    "            window = context, sample = downsampling)\n",
    "\n",
    "# If you don't plan to train the model any further, calling \n",
    "# init_sims will make the model much more memory-efficient.\n",
    "model.init_sims(replace=True)\n",
    "\n",
    "# save the model for later use. Load it later using Word2Vec.load()\n",
    "model_name = \"300features_40minwords_10context\"\n",
    "model.save(model_name)"
   ]
  },
  {
   "cell_type": "code",
   "execution_count": 9,
   "metadata": {},
   "outputs": [
    {
     "name": "stderr",
     "output_type": "stream",
     "text": [
      "/Library/Frameworks/Python.framework/Versions/3.6/lib/python3.6/site-packages/ipykernel_launcher.py:1: DeprecationWarning: Call to deprecated `most_similar` (Method will be removed in 4.0.0, use self.wv.most_similar() instead).\n",
      "  \"\"\"Entry point for launching an IPython kernel.\n",
      "/Library/Frameworks/Python.framework/Versions/3.6/lib/python3.6/site-packages/gensim/matutils.py:737: FutureWarning: Conversion of the second argument of issubdtype from `int` to `np.signedinteger` is deprecated. In future, it will be treated as `np.int64 == np.dtype(int).type`.\n",
      "  if np.issubdtype(vec.dtype, np.int):\n"
     ]
    },
    {
     "data": {
      "text/plain": [
       "[('dahlia', 0.5981990098953247),\n",
       " ('buxom', 0.5907309055328369),\n",
       " ('foxy', 0.5887882709503174),\n",
       " ('butch', 0.5813795328140259),\n",
       " ('sheep', 0.573807954788208),\n",
       " ('gray', 0.5734368562698364),\n",
       " ('stallion', 0.5704995393753052),\n",
       " ('regina', 0.5704531669616699),\n",
       " ('bald', 0.5673142671585083),\n",
       " ('moreland', 0.5661356449127197)]"
      ]
     },
     "execution_count": 9,
     "metadata": {},
     "output_type": "execute_result"
    }
   ],
   "source": [
    "model.most_similar(\"raven\".split())"
   ]
  },
  {
   "cell_type": "code",
   "execution_count": 10,
   "metadata": {},
   "outputs": [
    {
     "name": "stderr",
     "output_type": "stream",
     "text": [
      "2018-09-03 12:29:38,656 : INFO : loading Word2Vec object from 300features_40minwords_10context\n",
      "2018-09-03 12:29:39,027 : INFO : loading wv recursively from 300features_40minwords_10context.wv.* with mmap=None\n",
      "2018-09-03 12:29:39,028 : INFO : setting ignored attribute vectors_norm to None\n",
      "2018-09-03 12:29:39,029 : INFO : loading vocabulary recursively from 300features_40minwords_10context.vocabulary.* with mmap=None\n",
      "2018-09-03 12:29:39,029 : INFO : loading trainables recursively from 300features_40minwords_10context.trainables.* with mmap=None\n",
      "2018-09-03 12:29:39,030 : INFO : setting ignored attribute cum_table to None\n",
      "2018-09-03 12:29:39,031 : INFO : loaded 300features_40minwords_10context\n"
     ]
    }
   ],
   "source": [
    "model = Word2Vec.load(\"300features_40minwords_10context\")"
   ]
  },
  {
   "cell_type": "code",
   "execution_count": 16,
   "metadata": {},
   "outputs": [],
   "source": [
    "# Function to average all of the word vectors in a given paragraph\n",
    "def makeFeatureVec(words, model, num_features):\n",
    "    #make a vector of size num_features \n",
    "    #note for numpy: if the second shape val is not listed, then it's a vector, not a matrix\n",
    "    featureVec = np.zeros((num_features,),dtype=\"float32\")\n",
    "    \n",
    "    nwords = 0.\n",
    "    # Index2word is a list that contains the names of the words in the model's vocabulary\n",
    "    index2word_set = set(model.wv.index2word)\n",
    "\n",
    "    # Loop over each word in the review and, if it is in the model's vocab, add its feature vector to the total\n",
    "    for word in words:\n",
    "        if word in index2word_set: \n",
    "            nwords = nwords + 1.\n",
    "            featureVec = np.add(featureVec,model[word])\n",
    "            \n",
    "    # Divide the result by the number of words to get the average\n",
    "    featureVec = np.divide(featureVec,nwords)\n",
    "    \n",
    "    return featureVec"
   ]
  },
  {
   "cell_type": "code",
   "execution_count": 19,
   "metadata": {},
   "outputs": [],
   "source": [
    "def getAvgFeatureVecs(reviews, model, num_features):\n",
    "    # calculate the average feature vector for each review and return a 2D numpy array \n",
    "    \n",
    "    # Initialize a counter\n",
    "    counter = 0\n",
    "    \n",
    "    # pre-allocate a 2d array with len(reviews) rows and num_features columns\n",
    "    reviewFeatureVecs = np.zeros((len(reviews),num_features),dtype=\"float32\")\n",
    "    \n",
    "    # loop through the reviews\n",
    "    for review in reviews:\n",
    "        if counter%1000. == 0.:\n",
    "            print(\"Review %d of %d\" % (counter, len(reviews)))\n",
    "       \n",
    "        #make avg feature vectors\n",
    "        reviewFeatureVecs[counter] = makeFeatureVec(review, model, \\\n",
    "           num_features)\n",
    "    \n",
    "       counter = counter + 1\n",
    "        \n",
    "    return reviewFeatureVecs"
   ]
  },
  {
   "cell_type": "code",
   "execution_count": 20,
   "metadata": {},
   "outputs": [
    {
     "name": "stdout",
     "output_type": "stream",
     "text": [
      "Review 0 of 25000\n"
     ]
    },
    {
     "name": "stderr",
     "output_type": "stream",
     "text": [
      "/Library/Frameworks/Python.framework/Versions/3.6/lib/python3.6/site-packages/ipykernel_launcher.py:19: DeprecationWarning: Call to deprecated `__getitem__` (Method will be removed in 4.0.0, use self.wv.__getitem__() instead).\n"
     ]
    },
    {
     "name": "stdout",
     "output_type": "stream",
     "text": [
      "Review 1000 of 25000\n",
      "Review 2000 of 25000\n",
      "Review 3000 of 25000\n",
      "Review 4000 of 25000\n",
      "Review 5000 of 25000\n",
      "Review 6000 of 25000\n",
      "Review 7000 of 25000\n",
      "Review 8000 of 25000\n",
      "Review 9000 of 25000\n",
      "Review 10000 of 25000\n",
      "Review 11000 of 25000\n",
      "Review 12000 of 25000\n",
      "Review 13000 of 25000\n",
      "Review 14000 of 25000\n",
      "Review 15000 of 25000\n",
      "Review 16000 of 25000\n",
      "Review 17000 of 25000\n",
      "Review 18000 of 25000\n",
      "Review 19000 of 25000\n",
      "Review 20000 of 25000\n",
      "Review 21000 of 25000\n",
      "Review 22000 of 25000\n",
      "Review 23000 of 25000\n",
      "Review 24000 of 25000\n",
      "Creating average feature vecs for test reviews\n",
      "Review 0 of 25000\n",
      "Review 1000 of 25000\n",
      "Review 2000 of 25000\n",
      "Review 3000 of 25000\n",
      "Review 4000 of 25000\n",
      "Review 5000 of 25000\n",
      "Review 6000 of 25000\n",
      "Review 7000 of 25000\n",
      "Review 8000 of 25000\n",
      "Review 9000 of 25000\n",
      "Review 10000 of 25000\n",
      "Review 11000 of 25000\n",
      "Review 12000 of 25000\n",
      "Review 13000 of 25000\n",
      "Review 14000 of 25000\n",
      "Review 15000 of 25000\n",
      "Review 16000 of 25000\n",
      "Review 17000 of 25000\n",
      "Review 18000 of 25000\n",
      "Review 19000 of 25000\n",
      "Review 20000 of 25000\n",
      "Review 21000 of 25000\n",
      "Review 22000 of 25000\n",
      "Review 23000 of 25000\n",
      "Review 24000 of 25000\n"
     ]
    }
   ],
   "source": [
    "# ****************************************************************\n",
    "# Calculate average feature vectors for training and testing sets,\n",
    "# using the functions we defined above. Notice that we now use stop word\n",
    "# removal.\n",
    "\n",
    "clean_train_reviews = []\n",
    "for review in train[\"review\"]:\n",
    "    clean_train_reviews.append( review_to_wordlist( review, \\\n",
    "        remove_stopwords=True ))\n",
    "\n",
    "trainDataVecs = getAvgFeatureVecs( clean_train_reviews, model, num_features )\n",
    "\n",
    "print(\"Creating average feature vecs for test reviews\")\n",
    "clean_test_reviews = []\n",
    "for review in test[\"review\"]:\n",
    "    clean_test_reviews.append( review_to_wordlist( review, \\\n",
    "        remove_stopwords=True ))\n",
    "\n",
    "testDataVecs = getAvgFeatureVecs( clean_test_reviews, model, num_features )"
   ]
  },
  {
   "cell_type": "code",
   "execution_count": 21,
   "metadata": {},
   "outputs": [
    {
     "name": "stdout",
     "output_type": "stream",
     "text": [
      "Fitting a random forest to labeled training data...\n"
     ]
    }
   ],
   "source": [
    "# Fit a random forest to the training data, using 100 trees\n",
    "from sklearn.ensemble import RandomForestClassifier\n",
    "forest = RandomForestClassifier( n_estimators = 100 )\n",
    "\n",
    "print(\"Fitting a random forest to labeled training data...\")\n",
    "forest = forest.fit( trainDataVecs, train[\"sentiment\"] )\n",
    "\n",
    "# Test & extract results \n",
    "result = forest.predict( testDataVecs )\n",
    "\n",
    "# Write the test results \n",
    "output = pd.DataFrame( data={\"id\":test[\"id\"], \"sentiment\":result} )\n",
    "output.to_csv( \"Word2Vec_AverageVectors.csv\", index=False, quoting=3 )"
   ]
  },
  {
   "cell_type": "code",
   "execution_count": 27,
   "metadata": {},
   "outputs": [
    {
     "name": "stderr",
     "output_type": "stream",
     "text": [
      "/Library/Frameworks/Python.framework/Versions/3.6/lib/python3.6/site-packages/ipykernel_launcher.py:8: DeprecationWarning: Call to deprecated `syn0` (Attribute will be removed in 4.0.0, use self.wv.vectors instead).\n",
      "  \n"
     ]
    },
    {
     "name": "stdout",
     "output_type": "stream",
     "text": [
      "Time taken for K Means clustering:  382.23530983924866 seconds.\n"
     ]
    }
   ],
   "source": [
    "from sklearn.cluster import KMeans\n",
    "import time\n",
    "\n",
    "start = time.time() # Start time\n",
    "\n",
    "# Set \"k\" (num_clusters) to be 1/5th of the vocabulary size, or an\n",
    "# average of 5 words per cluster\n",
    "word_vectors = model.wv.syn0\n",
    "num_clusters = word_vectors.shape[0] // 5\n",
    "\n",
    "# Initalize a k-means object and use it to extract centroids\n",
    "kmeans_clustering = KMeans( n_clusters = num_clusters )\n",
    "idx = kmeans_clustering.fit_predict( word_vectors )\n",
    "\n",
    "# Get the end time and print how long the process took\n",
    "end = time.time()\n",
    "elapsed = end - start\n",
    "print(\"Time taken for K Means clustering: \", elapsed, \"seconds.\")"
   ]
  },
  {
   "cell_type": "code",
   "execution_count": 29,
   "metadata": {},
   "outputs": [],
   "source": [
    "# Create a Word / Index dictionary, mapping each vocabulary word to\n",
    "# a cluster number                                                                                            \n",
    "word_centroid_map = dict(zip( model.wv.index2word, idx ))"
   ]
  },
  {
   "cell_type": "code",
   "execution_count": 32,
   "metadata": {},
   "outputs": [
    {
     "name": "stdout",
     "output_type": "stream",
     "text": [
      "\n",
      "Cluster 0\n",
      "['forget', 'relate', 'argue', 'resist', 'deny', 'tolerate']\n",
      "\n",
      "Cluster 1\n",
      "['nutty', 'sawyer']\n",
      "\n",
      "Cluster 2\n",
      "['bums']\n",
      "\n",
      "Cluster 3\n",
      "['blandings', 'perfected', 'moonstruck', 'inimitable']\n",
      "\n",
      "Cluster 4\n",
      "['scotland']\n",
      "\n",
      "Cluster 5\n",
      "['lola', 'dallas', 'herman', 'logan', 'maine', 'louie', 'hastings']\n",
      "\n",
      "Cluster 6\n",
      "['false']\n",
      "\n",
      "Cluster 7\n",
      "['dangers', 'evils', 'rapture', 'statistics']\n",
      "\n",
      "Cluster 8\n",
      "['joined', 'spotted', 'freed', 'proposed', 'persuaded', 'summoned', 'defended', 'parliament']\n",
      "\n",
      "Cluster 9\n",
      "['unexciting', 'uninvolving', 'compact']\n"
     ]
    }
   ],
   "source": [
    "# For the first 10 clusters\n",
    "for cluster in range(10):\n",
    "    #\n",
    "    # Print the cluster number  \n",
    "    print(\"\\nCluster %d\" % cluster)\n",
    "    #\n",
    "    # Find all of the words for that cluster number, and print them out\n",
    "    words = []\n",
    "    for i in word_centroid_map.keys():\n",
    "        if( word_centroid_map[i] == cluster ):\n",
    "            words.append(i)\n",
    "    print(words)"
   ]
  },
  {
   "cell_type": "code",
   "execution_count": 33,
   "metadata": {},
   "outputs": [],
   "source": [
    "def create_bag_of_centroids( wordlist, word_centroid_map ):\n",
    "    # The number of clusters is equal to the highest cluster index in the word / centroid map\n",
    "    num_centroids = max( word_centroid_map.values() ) + 1\n",
    "\n",
    "    # Pre-allocate the bag of centroids vector as a vector with num features = num of centroids\n",
    "    bag_of_centroids = np.zeros( num_centroids, dtype=\"float32\" )\n",
    "    \n",
    "    # Loop over the words in the review. If the word is in the vocabulary,\n",
    "    # find which cluster it belongs to, and increment that cluster count by one\n",
    "    for word in wordlist:\n",
    "        if word in word_centroid_map:\n",
    "            index = word_centroid_map[word]\n",
    "            bag_of_centroids[index] += 1\n",
    "    \n",
    "    # Return the \"bag of centroids\"\n",
    "    return bag_of_centroids"
   ]
  },
  {
   "cell_type": "code",
   "execution_count": 34,
   "metadata": {},
   "outputs": [],
   "source": [
    "# Pre-allocate a matrix with rows = num of training reviews and cols = number of clusters/features\n",
    "train_centroids = np.zeros( (train[\"review\"].size, num_clusters), \\\n",
    "    dtype=\"float32\" )\n",
    "\n",
    "# Transform the training set reviews into bags of centroids\n",
    "counter = 0\n",
    "for review in clean_train_reviews:\n",
    "    train_centroids[counter] = create_bag_of_centroids( review, \\\n",
    "        word_centroid_map )\n",
    "    counter += 1\n",
    "\n",
    "# Repeat for test reviews \n",
    "test_centroids = np.zeros(( test[\"review\"].size, num_clusters), \\\n",
    "    dtype=\"float32\" )\n",
    "\n",
    "counter = 0\n",
    "for review in clean_test_reviews:\n",
    "    test_centroids[counter] = create_bag_of_centroids( review, \\\n",
    "        word_centroid_map )\n",
    "    counter += 1"
   ]
  },
  {
   "cell_type": "code",
   "execution_count": 36,
   "metadata": {},
   "outputs": [
    {
     "name": "stdout",
     "output_type": "stream",
     "text": [
      "Fitting a random forest to labeled training data...\n"
     ]
    }
   ],
   "source": [
    "# Fit a random forest and extract predictions \n",
    "forest = RandomForestClassifier(n_estimators = 100)\n",
    "\n",
    "# Fitting the forest to training set, may take a few minutes\n",
    "print(\"Fitting a random forest to labeled training data...\")\n",
    "forest = forest.fit(train_centroids,train[\"sentiment\"])\n",
    "\n",
    "#predicting test results\n",
    "result = forest.predict(test_centroids)\n",
    "\n",
    "# Write the test results \n",
    "output = pd.DataFrame(data={\"id\":test[\"id\"], \"sentiment\":result})\n",
    "output.to_csv( \"BagOfCentroids.csv\", index=False, quoting=3 )"
   ]
  },
  {
   "cell_type": "code",
   "execution_count": null,
   "metadata": {},
   "outputs": [],
   "source": []
  }
 ],
 "metadata": {
  "kernelspec": {
   "display_name": "Python 3",
   "language": "python",
   "name": "python3"
  },
  "language_info": {
   "codemirror_mode": {
    "name": "ipython",
    "version": 3
   },
   "file_extension": ".py",
   "mimetype": "text/x-python",
   "name": "python",
   "nbconvert_exporter": "python",
   "pygments_lexer": "ipython3",
   "version": "3.6.1"
  }
 },
 "nbformat": 4,
 "nbformat_minor": 2
}
